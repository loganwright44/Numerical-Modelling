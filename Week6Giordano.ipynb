{
 "cells": [
  {
   "cell_type": "markdown",
   "metadata": {},
   "source": [
    "# Exercise 6.10 - Find an Initial String Displacement to Induce a Certain Wavelength Vibration on a String\n",
    "\n",
    "## Problem Statement\n",
    "\n",
    "Devise an initial string displacement that gives rise to a vibration in which the only frequency present is the one corresponding to the Fourier component with a wavelength of $2L/3$, where $L$ is the length of the string.\n",
    "\n",
    "## Wave Mechanics\n",
    "\n",
    "A couple of useful formulae:\n",
    "\n",
    "$$\\lambda = \\frac{2L}{m} \\hspace{5 cm} m \\in \\{1, 2, 3 ...\\}$$\n",
    "\n",
    "$$c = \\lambda f$$\n",
    "\n",
    "$$c = \\sqrt{\\frac{T}{\\mu}}$$\n",
    "\n",
    "$$\\mu = \\frac{\\partial M(x)}{\\partial x}$$\n",
    "\n",
    "$$\\frac{\\partial^2 f}{\\partial t^2} - c^2 \\frac{\\partial^2 f}{\\partial x^2} = 0$$\n",
    "\n",
    "## Numerical Derivatives\n",
    "\n",
    "$$\\frac{\\partial^2}{\\partial x^2} (f(x, t)) \\approx \\frac{f(x + h, t) - 2 f(x, t) + f(x - h, t)}{2 h^2}$$\n",
    "\n",
    "Using this in the wave equation to manipulate for usage of a wave propogating on a string, this simplifies to\n",
    "\n",
    "$$\\frac{y_j^{n-1} - 2y_j^n + y_j^{n + 1}}{2 \\tau^2} = c^2 \\frac{y_{j - 1}^n - 2y_j^n + y_{j + 1}^n}{2 h^2}$$\n",
    "\n",
    "where $n$ denotes the time index, and $j$ the spacial index. So, using this to find the next time step values, we reduce to\n",
    "\n",
    "$$y_j^{n + 1} = \\frac{c^2 \\tau^2}{h^2} (y_{j - 1}^n - 2y_j^n + y_{j + 1}^n) - y_j^{n - 1} + 2y_j^n$$\n",
    "\n",
    "To get the proportion of $\\tau^2 / h^2$ to a value which does not cause the numerical solution to diverge, I let this fraction equal 1. For guaranteed convergence, $c = 0.5$ will be used. The Giordano text shows that this proportion can be equal to 1, but should also be acceptable for any value less than 1. The Giordano text demonstrates that this constant is called the Courant number.\n",
    "\n",
    "## Problem Solution Process\n",
    "\n",
    "To solve this wave problem, I'll need to make use of a clarification which the question asks. Since it is asking for a Fourier component whose wavelength, $\\lambda$, to be equal to $2L/3$, we can transform the problem into finding a specific frequency associated with that wavelength.\n",
    "\n",
    "$$f = \\frac{c}{\\lambda} = \\frac{3}{2L} \\, \\text{Hz}$$\n",
    "\n",
    "To decrease the frequency of the wave, I will have to make L large. But for convenience, I will choose L an integer such that the frequency is $1/2$. So,\n",
    "\n",
    "$$L = 3 \\, \\text{m}$$\n",
    "\n",
    "which cleanly produces\n",
    "\n",
    "$$f = \\frac{1}{2} \\, \\text{Hz}$$\n",
    "\n",
    "or\n",
    "\n",
    "$$\\omega = \\pi \\, \\text{rad / s}$$"
   ]
  },
  {
   "cell_type": "code",
   "execution_count": 1,
   "metadata": {},
   "outputs": [
    {
     "name": "stdout",
     "output_type": "stream",
     "text": [
      "Intel MKL WARNING: Support of Intel(R) Streaming SIMD Extensions 4.2 (Intel(R) SSE4.2) enabled only processors has been deprecated. Intel oneAPI Math Kernel Library 2025.0 will require Intel(R) Advanced Vector Extensions (Intel(R) AVX) instructions.\n",
      "Intel MKL WARNING: Support of Intel(R) Streaming SIMD Extensions 4.2 (Intel(R) SSE4.2) enabled only processors has been deprecated. Intel oneAPI Math Kernel Library 2025.0 will require Intel(R) Advanced Vector Extensions (Intel(R) AVX) instructions.\n",
      "Using matplotlib backend: <object object at 0x7fdea0786750>\n"
     ]
    },
    {
     "ename": "",
     "evalue": "",
     "output_type": "error",
     "traceback": [
      "\u001b[1;31mThe Kernel crashed while executing code in the current cell or a previous cell. \n",
      "\u001b[1;31mPlease review the code in the cell(s) to identify a possible cause of the failure. \n",
      "\u001b[1;31mClick <a href='https://aka.ms/vscodeJupyterKernelCrash'>here</a> for more info. \n",
      "\u001b[1;31mView Jupyter <a href='command:jupyter.viewOutput'>log</a> for further details."
     ]
    }
   ],
   "source": [
    "# Wave on a string - single frequency of pi radians\n",
    "%matplotlib\n",
    "import matplotlib.pyplot as plt\n",
    "import numpy as np\n",
    "\n",
    "class String:\n",
    "    def __init__(self, L : float, x: np.array, yMinus : np.array, yInitial : np.array, dt : float, courantNumber : float):\n",
    "        self.L = L\n",
    "        self.x = x\n",
    "        self.yMinus = yMinus\n",
    "        self.y = yInitial\n",
    "        self.BoundaryConditions()\n",
    "        self.N = len(yInitial)\n",
    "        self.dt = dt\n",
    "        self.C = courantNumber\n",
    "    \n",
    "    def BoundaryConditions(self):\n",
    "        self.y[0], self.y[-1] = 0.0, 0.0\n",
    "        return None\n",
    "        \n",
    "    def TimeEvolve(self):\n",
    "        yCurrent = np.copy(self.y[1 : -1])\n",
    "        jMinus = np.copy(self.y[0 : -2])\n",
    "        jPlus = np.copy(self.y[2 :])\n",
    "        # Update the y points for the next time step\n",
    "        self.y[1 : -1] = self.C * (jMinus - 2 * yCurrent + jPlus) - self.yMinus + 2 * yCurrent\n",
    "        # And then, update yMinus to what used to be yCurrent\n",
    "        self.yMinus = np.copy(yCurrent)\n",
    "        return None\n",
    "    \n",
    "    def Animate(self, _tf):\n",
    "        _t = 0.0\n",
    "        # Iterate through the time components\n",
    "        while _t <= _tf:\n",
    "            # Iterate the differential equation over the string solving for the next y values\n",
    "            self.TimeEvolve()\n",
    "            \n",
    "            plt.plot(self.x, self.y, 'r-')\n",
    "            plt.ylim(-5, 5)\n",
    "            plt.draw()\n",
    "            plt.pause(0.0001)\n",
    "            plt.clf()\n",
    "            \n",
    "            # Increment the time by dt\n",
    "            _t += self.dt\n",
    "        \n",
    "        plt.close()\n",
    "        return None\n",
    "\n",
    "# Set the initial conditions as stated above\n",
    "L = 3.0\n",
    "N = 99\n",
    "x = np.linspace(0.0, L, N)\n",
    "# The wave begins out with a sine wave which oscillates with a period of 2 seconds and a frequency of 0.5 Hz\n",
    "yMinus = np.sin(np.pi * x[1 : -1])\n",
    "yInitial = np.sin(np.pi * x)\n",
    "# Enforce the boundary condiitons\n",
    "yInitial[0], yInitial[-1] = 0.0, 0.0\n",
    "# Define the Courant number\n",
    "C = 0.5\n",
    "\n",
    "# Make the string and animate the solution to the differential wave equation\n",
    "string = String(L, x, yMinus, yInitial, 1e-2, C)\n",
    "string.Animate(_tf = 5.0)"
   ]
  },
  {
   "cell_type": "code",
   "execution_count": 3,
   "metadata": {},
   "outputs": [
    {
     "data": {
      "image/png": "[encoded data removed]",
      "text/plain": [
       "<Figure size 640x480 with 1 Axes>"
      ]
     },
     "metadata": {},
     "output_type": "display_data"
    },
    {
     "ename": "",
     "evalue": "",
     "output_type": "error",
     "traceback": [
      "\u001b[1;31mThe Kernel crashed while executing code in the current cell or a previous cell. \n",
      "\u001b[1;31mPlease review the code in the cell(s) to identify a possible cause of the failure. \n",
      "\u001b[1;31mClick <a href='https://aka.ms/vscodeJupyterKernelCrash'>here</a> for more info. \n",
      "\u001b[1;31mView Jupyter <a href='command:jupyter.viewOutput'>log</a> for further details."
     ]
    }
   ],
   "source": [
    "%matplotlib inline\n",
    "# Plot the initial conditions for the PDF format when downloaded\n",
    "plt.plot(x, yInitial, 'r-')\n",
    "plt.ylim(-5, 5)\n",
    "plt.show()"
   ]
  },
  {
   "cell_type": "markdown",
   "metadata": {},
   "source": [
    "## Fourier Series - What it Communicates\n",
    "\n",
    "Making use of linear algebra techniques, we can show that any periodic function can be rewritten in terms of a sum of sine and cosine functions, whose amplitudes and frequencies can be found by integrating over all space the original function with sines and cosines. By doing so, a change of variable occurs where $f(x)$ is transformed to $f(k)$, which represents the same function in frequency space.\n",
    "\n",
    "## Conclusion\n",
    "\n",
    "Since we are trying to find a function which contains a single sinusoidal wave in its Fourier expansion, there must be a sine or cosine function with a leading coefficient of exactly 1. Hence, this function $f(x)$ is exactly that sine function with a wavenumber $k$ such that\n",
    "\n",
    "$$f(x) = \\sin( 2 \\pi m x / 2 L ) \\hspace{1 in} m \\in N$$\n",
    "\n",
    "which we defined above as\n",
    "\n",
    "$$f(x) = \\sin( \\pi x )$$\n",
    "\n",
    "since $L = 3$ and $m = 3$. So, this makes setting the initial conditions very easy, and shows that plucking the string from its center with an amplitude of 1 will satisfy the solution to this problem."
   ]
  }
 ],
 "metadata": {
  "kernelspec": {
   "display_name": "Python 3 (ipykernel)",
   "language": "python",
   "name": "python3"
  },
  "language_info": {
   "codemirror_mode": {
    "name": "ipython",
    "version": 3
   },
   "file_extension": ".py",
   "mimetype": "text/x-python",
   "name": "python",
   "nbconvert_exporter": "python",
   "pygments_lexer": "ipython3",
   "version": "3.10.11"
  }
 },
 "nbformat": 4,
 "nbformat_minor": 2
}
