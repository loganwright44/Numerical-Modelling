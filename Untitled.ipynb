{
 "cells": [
  {
   "cell_type": "markdown",
   "id": "7618497d",
   "metadata": {},
   "source": [
    "# Problem 5.12"
   ]
  },
  {
   "cell_type": "code",
   "execution_count": 129,
   "id": "6edf419b",
   "metadata": {},
   "outputs": [
    {
     "name": "stdout",
     "output_type": "stream",
     "text": [
      "Numerical Solution: 3.980e-08 μT\n",
      "Exact Solution: 2.000e-02 μT\n",
      "Percent Difference: 100.000 %\n"
     ]
    }
   ],
   "source": [
    "import numpy as np\n",
    "\n",
    "π = 3.14159265\n",
    "μ0 = 4 * π * 1e-7\n",
    "\n",
    "class CurrentWire:\n",
    "    def __init__(self, I, l):\n",
    "        self.I = I\n",
    "        self.l = l\n",
    "        self.π = 3.14159265\n",
    "        self.μ0 = (4 * self.π) * 1e-1\n",
    "        self.ξ = (self.μ0 * self.I) / (4 * self.π)\n",
    "    \n",
    "    def getR(self, x, z):\n",
    "        r = (z * z + x * x) ** 0.5\n",
    "        return r\n",
    "    \n",
    "    def magneticField(self, nSlices, positionVector : np.array):\n",
    "        z = 0.0 - positionVector[2]\n",
    "        dz = self.l / nSlices\n",
    "        h = dz / 2\n",
    "        B = 0.0\n",
    "        \n",
    "        for n in range(nSlices):\n",
    "            B1 = (positionVector[0] * dz) / (self.getR(positionVector[0], z) ** 3)\n",
    "            B2 = (positionVector[0] * dz) / (self.getR(positionVector[0], z + h) ** 3)\n",
    "            B3 = (positionVector[0] * dz) / (self.getR(positionVector[0], z + dz) ** 3)\n",
    "            B += h / 3 * (B1 + 4 * B2 + B3)\n",
    "            if n % 100 == 0:\n",
    "                #print(B)\n",
    "                pass\n",
    "            \n",
    "            z += dz\n",
    "        \n",
    "        return B * self.ξ\n",
    "    \n",
    "    def percentDiff(self, BNumeric, BExact):\n",
    "        return (BExact - BNumeric) / BExact * 100.0\n",
    "    \n",
    "    def minimumN(self, positionVector, BExact, N0 = 0, ϵ = 5.0):\n",
    "        error = 100.0\n",
    "        N = N0\n",
    "        \n",
    "        while error > ϵ:\n",
    "            N += 1\n",
    "            BNumeric = self.magneticField(N, positionVector)\n",
    "            error = self.percentDiff(BNumeric, BExact)\n",
    "        \n",
    "        return N\n",
    "\n",
    "def amperesLaw(I, r, l):\n",
    "    return μ0 * I / (r[0] * 2 * π) * 1e6\n",
    "\n",
    "I = 1.0 # Amps\n",
    "l = 2.0 # meters\n",
    "N = 100000\n",
    "\n",
    "r⃗ = np.array([10, 0.0, l / 2.0])\n",
    "\n",
    "wire = CurrentWire(I, l)\n",
    "BNumerical = wire.magneticField(N, r⃗)\n",
    "BExact = amperesLaw(I, r⃗, l)\n",
    "percentDifference = (BExact - BNumerical) / BExact * 100.0\n",
    "\n",
    "print(f\"Numerical Solution: {BNumerical:.3e} μT\")\n",
    "print(f\"Exact Solution: {BExact:.3e} μT\")\n",
    "print(f\"Percent Difference: {abs(BExact - BNumerical) / BExact * 100:.3f} %\")\n",
    "\n",
    "#minN = wire.minimumN(r⃗, BExact)\n",
    "#minN"
   ]
  },
  {
   "cell_type": "code",
   "execution_count": 130,
   "id": "48b016eb",
   "metadata": {},
   "outputs": [
    {
     "name": "stdout",
     "output_type": "stream",
     "text": [
      "4.400426666666667\n"
     ]
    }
   ],
   "source": [
    "def simpsons(f, a, b, N):\n",
    "    dx = (b - a) / N\n",
    "    h = dx / 2\n",
    "    area = 0.0\n",
    "    x = a\n",
    "    for i in range(N):\n",
    "        area += h / 3 * (f(x) + 4 * f(x + h) + f(x + dx))\n",
    "        x += dx\n",
    "    \n",
    "    return area\n",
    "\n",
    "f = lambda x: x**4 - 2 * x + 1\n",
    "a = 0\n",
    "b = 2\n",
    "\n",
    "N = 5\n",
    "\n",
    "print(simpsons(f, a, b, N))"
   ]
  },
  {
   "cell_type": "code",
   "execution_count": null,
   "id": "b1ee9111",
   "metadata": {},
   "outputs": [],
   "source": []
  }
 ],
 "metadata": {
  "kernelspec": {
   "display_name": "Python 3 (ipykernel)",
   "language": "python",
   "name": "python3"
  },
  "language_info": {
   "codemirror_mode": {
    "name": "ipython",
    "version": 3
   },
   "file_extension": ".py",
   "mimetype": "text/x-python",
   "name": "python",
   "nbconvert_exporter": "python",
   "pygments_lexer": "ipython3",
   "version": "3.9.13"
  }
 },
 "nbformat": 4,
 "nbformat_minor": 5
}
