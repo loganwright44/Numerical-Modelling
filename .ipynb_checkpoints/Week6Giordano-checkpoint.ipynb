{
 "cells": [
  {
   "cell_type": "markdown",
   "metadata": {},
   "source": [
    "# Exercise 6.10 - Find an Initial String Displacement to Induce a Certain Wavelength Vibration on a String\n",
    "\n",
    "## Problem Statement\n",
    "\n",
    "Devise an initial string displacement that gives rise to a vibration in which the only frequency present is the one corresponding to the Fourier component with a wavelength of $2L/3$, where $L$ is the length of the string.\n",
    "\n",
    "## Wave Mechanics\n",
    "\n",
    "A couple of useful formulae:\n",
    "\n",
    "$$\\lambda = \\frac{2L}{m} \\hspace{5 cm} m \\in \\{1, 2, 3 ...\\}$$\n",
    "\n",
    "$$c = \\lambda f$$\n",
    "\n",
    "$$c = \\sqrt{\\frac{T}{\\mu}}$$\n",
    "\n",
    "$$\\mu = \\frac{\\partial M(x)}{\\partial x}$$\n",
    "\n",
    "$$\\frac{\\partial^2 f}{\\partial t^2} - c^2 \\frac{\\partial^2 f}{\\partial x^2} = 0$$\n",
    "\n",
    "## Numerical Derivatives\n",
    "\n",
    "$$\\frac{\\partial^2}{\\partial x^2} (f(x, t)) \\approx \\frac{f(x + h, t) - 2 f(x, t) + f(x - h, t)}{2 h^2}$$\n",
    "\n",
    "Using this in the wave equation to manipulate for usage of a wave propogating on a string, this simplifies to\n",
    "\n",
    "$$\\frac{y_j^{n-1} - 2y_j^n + y_j^{n + 1}}{2 \\tau^2} = c^2 \\frac{y_{j - 1}^n - 2y_j^n + y_{j + 1}^n}{2 h^2}$$\n",
    "\n",
    "where $n$ denotes the time index, and $j$ the spacial index. So, using this to find the next time step values, we reduce to\n",
    "\n",
    "$$y_j^{n + 1} = \\frac{c^2 \\tau^2}{h^2} (y_{j - 1}^n - 2y_j^n + y_{j + 1}^n) - y_j^{n + 1} + 2y_j^n$$\n",
    "\n",
    "To get the proportion of $\\tau^2 / h^2$ to a value which does not cause the numerical solution to diverge, I let this fraction equal 1. For simplicity, $c = 1$ will be used, as well. The Giordano text shows that this proportion can be equal to 1, but should also be acceptable for any value less 1, as well.\n",
    "\n",
    "## Problem Solution Process\n",
    "\n",
    "To solve this wave problem, I'll need to make use of a clarification which the question asks. Since it is asking for a Fourier component whose wavelength, $\\lambda$, to be equal to $2L/3$, we can transform the problem into finding a specific frequency associated with that wavelength.\n",
    "\n",
    "$$f = \\frac{c}{\\lambda} = \\frac{3}{2L} \\, \\text{Hz}$$\n",
    "\n",
    "To decrease the frequency of the wave, I will have to make L large. But for convenience, I will choose L an integer such that the frequency is $1/2$. So,\n",
    "\n",
    "$$L = 3 \\, \\text{m}$$\n",
    "\n",
    "which cleanly produces\n",
    "\n",
    "$$f = \\frac{1}{2} \\, \\text{Hz}$$\n",
    "\n",
    "or\n",
    "\n",
    "$$\\omega = \\pi \\, \\text{rad / s}$$"
   ]
  },
  {
   "cell_type": "code",
   "execution_count": null,
   "metadata": {},
   "outputs": [],
   "source": [
    "# Wave on a string - single frequency of pi radians\n",
    "%matplotlib\n",
    "import matplotlib.pyplot as plt\n",
    "import numpy as np\n",
    "\n",
    "class String:\n",
    "    def __init__(self, L : float, yInitial : np.array, dt : float):\n",
    "        self.L = L\n",
    "        self.y = yInitial\n",
    "        self.N = len(yInitial)\n",
    "        self.dt = dt\n",
    "    \n",
    "    def Animate(self, _tf):\n",
    "        _t = 0.0\n",
    "        # iterate through the time components\n",
    "        while _t <= _tf:\n",
    "            # iterate through the spacial components of the string and update the new positions\n",
    "            for j in range(self.N):\n",
    "                pass\n",
    "            \n",
    "            _t += self.dt\n",
    "        \n",
    "        plt.close()\n",
    "        return None"
   ]
  },
  {
   "cell_type": "markdown",
   "metadata": {},
   "source": []
  }
 ],
 "metadata": {
  "kernelspec": {
   "display_name": "Python 3 (ipykernel)",
   "language": "python",
   "name": "python3"
  },
  "language_info": {
   "codemirror_mode": {
    "name": "ipython",
    "version": 3
   },
   "file_extension": ".py",
   "mimetype": "text/x-python",
   "name": "python",
   "nbconvert_exporter": "python",
   "pygments_lexer": "ipython3",
   "version": "3.9.19"
  }
 },
 "nbformat": 4,
 "nbformat_minor": 2
}
