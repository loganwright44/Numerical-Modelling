{
 "cells": [
  {
   "cell_type": "markdown",
   "metadata": {},
   "source": [
    "# Overview\n",
    "In this lesson you will learn about 2nd order Runge Kutta and the python coding concepts needed to implement it.  You'll also see some examples in the context of oscillatory systems.\n",
    "\n",
    "## Coding concepts\n",
    "\n",
    "### Numpy Arrays\n",
    "\n",
    "By now you should be feeling comfortable using lists and hopefully you know that lists are not to be used for mathematica calculations.  To see this consider the code below and <span style=\"color:red\">add comments after seeing what happens</span>.\n",
    "\n"
   ]
  },
  {
   "cell_type": "code",
   "execution_count": 6,
   "metadata": {},
   "outputs": [
    {
     "data": {
      "text/plain": [
       "([1, 2, 3, 4.2, 6, 8, 2, 1, 3.3], [1, 2, 3, 4.2, 6, 1, 2, 3, 4.2, 6])"
      ]
     },
     "execution_count": 6,
     "metadata": {},
     "output_type": "execute_result"
    }
   ],
   "source": [
    "from math import sqrt\n",
    "\n",
    "a = [1,2,3,4.2,6]\n",
    "b = [8,2,1,3.3]\n",
    "#c = a**2 # not a valid operand on a python list\n",
    "d = a + b # addition is like appending lists, but is not element-wise summation (like how vectors add)\n",
    "#e = sqrt(a) # sqrt does not work either\n",
    "f = 2 * a # doubles the length of the list by repeatining its current values and attching it to the end of the list\n",
    "d, f"
   ]
  },
  {
   "cell_type": "markdown",
   "metadata": {},
   "source": [
    "If you want to perform mathematical calculations on large sets of numbers (and you will) you need to use numpy arrays. (pronounced num-pie, short for numerical python.)  Study the cell below and <span style=\"color:red\">add comments after you figure out the take-home message</span>."
   ]
  },
  {
   "cell_type": "code",
   "execution_count": 7,
   "metadata": {},
   "outputs": [
    {
     "name": "stdout",
     "output_type": "stream",
     "text": [
      "Intel MKL WARNING: Support of Intel(R) Streaming SIMD Extensions 4.2 (Intel(R) SSE4.2) enabled only processors has been deprecated. Intel oneAPI Math Kernel Library 2025.0 will require Intel(R) Advanced Vector Extensions (Intel(R) AVX) instructions.\n",
      "Intel MKL WARNING: Support of Intel(R) Streaming SIMD Extensions 4.2 (Intel(R) SSE4.2) enabled only processors has been deprecated. Intel oneAPI Math Kernel Library 2025.0 will require Intel(R) Advanced Vector Extensions (Intel(R) AVX) instructions.\n"
     ]
    },
    {
     "data": {
      "text/plain": [
       "(array([1, 2, 3]),\n",
       " array([4, 5, 6]),\n",
       " array([ 7.82842712, 23.16227766, 48.46410162]),\n",
       " array([-0.7568025 , -1.91784855, -0.83824649]))"
      ]
     },
     "execution_count": 7,
     "metadata": {},
     "output_type": "execute_result"
    }
   ],
   "source": [
    "from numpy import array,sqrt,sin\n",
    "\n",
    "\"\"\"\n",
    "Overall, numpy arrays are operable with all algebraic operators unlike python lists offering better flexibility\n",
    "\"\"\"\n",
    "\n",
    "a = array([1,2,3])\n",
    "b = array([4,5,6])\n",
    "c = 5 * a**2 + sqrt(2 * b)\n",
    "d = a * sin(b)\n",
    "\n",
    "a, b, c, d"
   ]
  },
  {
   "cell_type": "markdown",
   "metadata": {},
   "source": [
    "In the cell above, we used the 'array' function to turn a list into an array.  You can also use functions to generate arrays.(<span style=\"color:red\">add comments after you figure out what each function does</span>)"
   ]
  },
  {
   "cell_type": "code",
   "execution_count": 8,
   "metadata": {},
   "outputs": [
    {
     "data": {
      "text/plain": [
       "(array([ 5.        ,  5.05025126,  5.10050251,  5.15075377,  5.20100503,\n",
       "         5.25125628,  5.30150754,  5.35175879,  5.40201005,  5.45226131,\n",
       "         5.50251256,  5.55276382,  5.60301508,  5.65326633,  5.70351759,\n",
       "         5.75376884,  5.8040201 ,  5.85427136,  5.90452261,  5.95477387,\n",
       "         6.00502513,  6.05527638,  6.10552764,  6.15577889,  6.20603015,\n",
       "         6.25628141,  6.30653266,  6.35678392,  6.40703518,  6.45728643,\n",
       "         6.50753769,  6.55778894,  6.6080402 ,  6.65829146,  6.70854271,\n",
       "         6.75879397,  6.80904523,  6.85929648,  6.90954774,  6.95979899,\n",
       "         7.01005025,  7.06030151,  7.11055276,  7.16080402,  7.21105528,\n",
       "         7.26130653,  7.31155779,  7.36180905,  7.4120603 ,  7.46231156,\n",
       "         7.51256281,  7.56281407,  7.61306533,  7.66331658,  7.71356784,\n",
       "         7.7638191 ,  7.81407035,  7.86432161,  7.91457286,  7.96482412,\n",
       "         8.01507538,  8.06532663,  8.11557789,  8.16582915,  8.2160804 ,\n",
       "         8.26633166,  8.31658291,  8.36683417,  8.41708543,  8.46733668,\n",
       "         8.51758794,  8.5678392 ,  8.61809045,  8.66834171,  8.71859296,\n",
       "         8.76884422,  8.81909548,  8.86934673,  8.91959799,  8.96984925,\n",
       "         9.0201005 ,  9.07035176,  9.12060302,  9.17085427,  9.22110553,\n",
       "         9.27135678,  9.32160804,  9.3718593 ,  9.42211055,  9.47236181,\n",
       "         9.52261307,  9.57286432,  9.62311558,  9.67336683,  9.72361809,\n",
       "         9.77386935,  9.8241206 ,  9.87437186,  9.92462312,  9.97487437,\n",
       "        10.02512563, 10.07537688, 10.12562814, 10.1758794 , 10.22613065,\n",
       "        10.27638191, 10.32663317, 10.37688442, 10.42713568, 10.47738693,\n",
       "        10.52763819, 10.57788945, 10.6281407 , 10.67839196, 10.72864322,\n",
       "        10.77889447, 10.82914573, 10.87939698, 10.92964824, 10.9798995 ,\n",
       "        11.03015075, 11.08040201, 11.13065327, 11.18090452, 11.23115578,\n",
       "        11.28140704, 11.33165829, 11.38190955, 11.4321608 , 11.48241206,\n",
       "        11.53266332, 11.58291457, 11.63316583, 11.68341709, 11.73366834,\n",
       "        11.7839196 , 11.83417085, 11.88442211, 11.93467337, 11.98492462,\n",
       "        12.03517588, 12.08542714, 12.13567839, 12.18592965, 12.2361809 ,\n",
       "        12.28643216, 12.33668342, 12.38693467, 12.43718593, 12.48743719,\n",
       "        12.53768844, 12.5879397 , 12.63819095, 12.68844221, 12.73869347,\n",
       "        12.78894472, 12.83919598, 12.88944724, 12.93969849, 12.98994975,\n",
       "        13.04020101, 13.09045226, 13.14070352, 13.19095477, 13.24120603,\n",
       "        13.29145729, 13.34170854, 13.3919598 , 13.44221106, 13.49246231,\n",
       "        13.54271357, 13.59296482, 13.64321608, 13.69346734, 13.74371859,\n",
       "        13.79396985, 13.84422111, 13.89447236, 13.94472362, 13.99497487,\n",
       "        14.04522613, 14.09547739, 14.14572864, 14.1959799 , 14.24623116,\n",
       "        14.29648241, 14.34673367, 14.39698492, 14.44723618, 14.49748744,\n",
       "        14.54773869, 14.59798995, 14.64824121, 14.69849246, 14.74874372,\n",
       "        14.79899497, 14.84924623, 14.89949749, 14.94974874, 15.        ]),\n",
       " array([ 5. ,  5.1,  5.2,  5.3,  5.4,  5.5,  5.6,  5.7,  5.8,  5.9,  6. ,\n",
       "         6.1,  6.2,  6.3,  6.4,  6.5,  6.6,  6.7,  6.8,  6.9,  7. ,  7.1,\n",
       "         7.2,  7.3,  7.4,  7.5,  7.6,  7.7,  7.8,  7.9,  8. ,  8.1,  8.2,\n",
       "         8.3,  8.4,  8.5,  8.6,  8.7,  8.8,  8.9,  9. ,  9.1,  9.2,  9.3,\n",
       "         9.4,  9.5,  9.6,  9.7,  9.8,  9.9, 10. , 10.1, 10.2, 10.3, 10.4,\n",
       "        10.5, 10.6, 10.7, 10.8, 10.9, 11. , 11.1, 11.2, 11.3, 11.4, 11.5,\n",
       "        11.6, 11.7, 11.8, 11.9, 12. , 12.1, 12.2, 12.3, 12.4, 12.5, 12.6,\n",
       "        12.7, 12.8, 12.9, 13. , 13.1, 13.2, 13.3, 13.4, 13.5, 13.6, 13.7,\n",
       "        13.8, 13.9, 14. , 14.1, 14.2, 14.3, 14.4, 14.5, 14.6, 14.7, 14.8,\n",
       "        14.9]),\n",
       " array([[1., 1., 1., 1., 1.],\n",
       "        [1., 1., 1., 1., 1.],\n",
       "        [1., 1., 1., 1., 1.],\n",
       "        [1., 1., 1., 1., 1.],\n",
       "        [1., 1., 1., 1., 1.]]),\n",
       " array([0., 0., 0., 0., 0., 0., 0., 0., 0., 0.]),\n",
       " array([[0., 0., 0., 0., 0.],\n",
       "        [0., 0., 0., 0., 0.],\n",
       "        [0., 0., 0., 0., 0.],\n",
       "        [0., 0., 0., 0., 0.],\n",
       "        [0., 0., 0., 0., 0.]]))"
      ]
     },
     "execution_count": 8,
     "metadata": {},
     "output_type": "execute_result"
    }
   ],
   "source": [
    "import numpy as np\n",
    "\n",
    "a = np.linspace(5,15,200) # makes evenly spaced points in an array from 5 to 15 with 200 points in the array\n",
    "b = np.arange(5,15,.1) # makes evenly spaced points from 5 to 15 as well, but has a step size of 0.1\n",
    "c = np.ones([5,5]) # makes a 5x5 array filled with ones\n",
    "d = np.zeros([10]) # make a 10 dimensional vector filled with zeros\n",
    "e = np.zeros_like(c) # makes a zeros array in the same shape as vector d\n",
    "\n",
    "a, b, c, d, e"
   ]
  },
  {
   "cell_type": "markdown",
   "metadata": {},
   "source": [
    "### Numpy Functions\n",
    "\n",
    "A wealth of useful functions involving array are available with numpy.  I won't try to show all of them to you, but below you will find some useful ones.  (<span style=\"color:red\">add comments after you figure out what each function does</span>)  For a more comprehensive list of functions available in numpy, see [here](https://numpy.org/doc/stable/reference/routines.math.html)"
   ]
  },
  {
   "cell_type": "code",
   "execution_count": 10,
   "metadata": {},
   "outputs": [
    {
     "data": {
      "text/plain": [
       "(array([ 5.        ,  5.05025126,  5.10050251,  5.15075377,  5.20100503,\n",
       "         5.25125628,  5.30150754,  5.35175879,  5.40201005,  5.45226131,\n",
       "         5.50251256,  5.55276382,  5.60301508,  5.65326633,  5.70351759,\n",
       "         5.75376884,  5.8040201 ,  5.85427136,  5.90452261,  5.95477387,\n",
       "         6.00502513,  6.05527638,  6.10552764,  6.15577889,  6.20603015,\n",
       "         6.25628141,  6.30653266,  6.35678392,  6.40703518,  6.45728643,\n",
       "         6.50753769,  6.55778894,  6.6080402 ,  6.65829146,  6.70854271,\n",
       "         6.75879397,  6.80904523,  6.85929648,  6.90954774,  6.95979899,\n",
       "         7.01005025,  7.06030151,  7.11055276,  7.16080402,  7.21105528,\n",
       "         7.26130653,  7.31155779,  7.36180905,  7.4120603 ,  7.46231156,\n",
       "         7.51256281,  7.56281407,  7.61306533,  7.66331658,  7.71356784,\n",
       "         7.7638191 ,  7.81407035,  7.86432161,  7.91457286,  7.96482412,\n",
       "         8.01507538,  8.06532663,  8.11557789,  8.16582915,  8.2160804 ,\n",
       "         8.26633166,  8.31658291,  8.36683417,  8.41708543,  8.46733668,\n",
       "         8.51758794,  8.5678392 ,  8.61809045,  8.66834171,  8.71859296,\n",
       "         8.76884422,  8.81909548,  8.86934673,  8.91959799,  8.96984925,\n",
       "         9.0201005 ,  9.07035176,  9.12060302,  9.17085427,  9.22110553,\n",
       "         9.27135678,  9.32160804,  9.3718593 ,  9.42211055,  9.47236181,\n",
       "         9.52261307,  9.57286432,  9.62311558,  9.67336683,  9.72361809,\n",
       "         9.77386935,  9.8241206 ,  9.87437186,  9.92462312,  9.97487437,\n",
       "        10.02512563, 10.07537688, 10.12562814, 10.1758794 , 10.22613065,\n",
       "        10.27638191, 10.32663317, 10.37688442, 10.42713568, 10.47738693,\n",
       "        10.52763819, 10.57788945, 10.6281407 , 10.67839196, 10.72864322,\n",
       "        10.77889447, 10.82914573, 10.87939698, 10.92964824, 10.9798995 ,\n",
       "        11.03015075, 11.08040201, 11.13065327, 11.18090452, 11.23115578,\n",
       "        11.28140704, 11.33165829, 11.38190955, 11.4321608 , 11.48241206,\n",
       "        11.53266332, 11.58291457, 11.63316583, 11.68341709, 11.73366834,\n",
       "        11.7839196 , 11.83417085, 11.88442211, 11.93467337, 11.98492462,\n",
       "        12.03517588, 12.08542714, 12.13567839, 12.18592965, 12.2361809 ,\n",
       "        12.28643216, 12.33668342, 12.38693467, 12.43718593, 12.48743719,\n",
       "        12.53768844, 12.5879397 , 12.63819095, 12.68844221, 12.73869347,\n",
       "        12.78894472, 12.83919598, 12.88944724, 12.93969849, 12.98994975,\n",
       "        13.04020101, 13.09045226, 13.14070352, 13.19095477, 13.24120603,\n",
       "        13.29145729, 13.34170854, 13.3919598 , 13.44221106, 13.49246231,\n",
       "        13.54271357, 13.59296482, 13.64321608, 13.69346734, 13.74371859,\n",
       "        13.79396985, 13.84422111, 13.89447236, 13.94472362, 13.99497487,\n",
       "        14.04522613, 14.09547739, 14.14572864, 14.1959799 , 14.24623116,\n",
       "        14.29648241, 14.34673367, 14.39698492, 14.44723618, 14.49748744,\n",
       "        14.54773869, 14.59798995, 14.64824121, 14.69849246, 14.74874372,\n",
       "        14.79899497, 14.84924623, 14.89949749, 14.94974874, 15.        ]),\n",
       " array([ 5. ,  5.1,  5.2,  5.3,  5.4,  5.5,  5.6,  5.7,  5.8,  5.9,  6. ,\n",
       "         6.1,  6.2,  6.3,  6.4,  6.5,  6.6,  6.7,  6.8,  6.9,  7. ,  7.1,\n",
       "         7.2,  7.3,  7.4,  7.5,  7.6,  7.7,  7.8,  7.9,  8. ,  8.1,  8.2,\n",
       "         8.3,  8.4,  8.5,  8.6,  8.7,  8.8,  8.9,  9. ,  9.1,  9.2,  9.3,\n",
       "         9.4,  9.5,  9.6,  9.7,  9.8,  9.9, 10. , 10.1, 10.2, 10.3, 10.4,\n",
       "        10.5, 10.6, 10.7, 10.8, 10.9, 11. , 11.1, 11.2, 11.3, 11.4, 11.5,\n",
       "        11.6, 11.7, 11.8, 11.9, 12. , 12.1, 12.2, 12.3, 12.4, 12.5, 12.6,\n",
       "        12.7, 12.8, 12.9, 13. , 13.1, 13.2, 13.3, 13.4, 13.5, 13.6, 13.7,\n",
       "        13.8, 13.9, 14. , 14.1, 14.2, 14.3, 14.4, 14.5, 14.6, 14.7, 14.8,\n",
       "        14.9]),\n",
       " array([ 5. ,  5.1,  5.2,  5.3,  5.4,  5.5,  5.6,  5.7,  5.8,  5.9,  6. ,\n",
       "         6.1,  6.2,  6.3,  6.4,  6.5,  6.6,  6.7,  6.8,  6.9,  7. ,  7.1,\n",
       "         7.2,  7.3,  7.4,  7.5,  7.6,  7.7,  7.8,  7.9,  8. ,  8.1,  8.2,\n",
       "         8.3,  8.4,  8.5,  8.6,  8.7,  8.8,  8.9,  9. ,  9.1,  9.2,  9.3,\n",
       "         9.4,  9.5,  9.6,  9.7,  9.8,  9.9, 10. , 10.1, 10.2, 10.3, 10.4,\n",
       "        10.5, 10.6, 10.7, 10.8, 10.9, 11. , 11.1, 11.2, 11.3, 11.4, 11.5,\n",
       "        11.6, 11.7, 11.8, 11.9, 12. , 12.1, 12.2, 12.3, 12.4, 12.5, 12.6,\n",
       "        12.7, 12.8, 12.9, 13. , 13.1, 13.2, 13.3, 13.4, 13.5, 13.6, 13.7,\n",
       "        13.8, 13.9, 14. , 14.1, 14.2, 14.3, 14.4, 14.5, 14.6, 14.7, 14.8,\n",
       "        14.9]),\n",
       " 103.60260614482611,\n",
       " 2000.0,\n",
       " 6.261772482198133e+97,\n",
       " array([15,  0, -5]),\n",
       " 32)"
      ]
     },
     "execution_count": 10,
     "metadata": {},
     "output_type": "execute_result"
    }
   ],
   "source": [
    "a = np.linspace(5,15,200) # again, the linspace and arange funcs ****\n",
    "b = np.arange(5,15,.1)\n",
    "c = np.copy(b) # copies the array components to a new place in memory - changes to the copy are not inhertited to the original\n",
    "d = np.linalg.norm(b) # gets the magnitude of a vector - sqrt(a^2 + b^2 + c^2 ...) = norm(v)\n",
    "e = np.sum(a) # adds the elements of the array together\n",
    "f = np.prod(b) # takes the product of every element in the array\n",
    "x = array([1,2,3])\n",
    "y = array([3,1,9])\n",
    "g = np.cross(x,y) # cross product\n",
    "h = np.dot(x,y) # and dot product\n",
    "a, b, c, d, e, f, g, h"
   ]
  },
  {
   "cell_type": "markdown",
   "metadata": {
    "deletable": false
   },
   "source": [
    "## 2nd order Runge-Kutta\n",
    "\n",
    "Recall where Euler's method came from: We started with a Taylor's series approximation and truncated that expression to include only terms up to first order (second order and higher terms were neglected).  We can get away with this if we require $\\Delta t$ to be very small.  Euler's method is a first-order method precisely because it includes terms up to first order, but not beyond.  To improve upon Euler's method let's see if we can do some nifty algebra to get the higher order terms to cancel out; hence we won't have to truncate them. We'll start with the familiar Taylor series of a general function, but this time we'll write down two expansion: i) one that steps forward ${1\\over 2} \\Delta x$ and ii) one that steps backward $-{1\\over 2}\\Delta x$:\n",
    "\n",
    "$$ f(x + {1\\over 2}\\Delta x) = f(x) + {1\\over 2}\\Delta x f'(x) + {1\\over 8} \\Delta x^2 f''(x) +  {1\\over 48} \\Delta x^3 f'''(x) + \\dots {({1\\over 2}\\Delta x)^n \\over n!} f^{(n)}(x)$$\n",
    "\n",
    "$$ f(x - {1\\over 2}\\Delta x) = f(x) - {1\\over 2}\\Delta x f'(x) + {1\\over 8} \\Delta x^2 f''(x) -  {1\\over 48} \\Delta x^3 f'''(x) + \\dots {(-{1\\over 2}\\Delta x)^n \\over n!} f^{(n)}(x)$$\n",
    "\n",
    "(notice the alternating signs on the terms of the second equation... Why?)\n",
    "\n",
    "Let's subtract the second equation from the first and rearrange a little.\n",
    "$$ f(x + {1\\over 2}\\Delta x) - f(x - {1\\over 2}\\Delta x) = \\Delta x f'(x)  +  {1\\over 24} \\Delta x^3 f'''(x) + \\dots $$\n",
    "$$ f(x + {1\\over 2}\\Delta x) = f(x - {1\\over 2}\\Delta x) + \\Delta x f'(x)  +  {1\\over 24} \\Delta x^3 f'''(x) + \\dots $$\n",
    "\n",
    "and now let's shift $x \\rightarrow x + {1\\over 2}\\Delta x$:\n",
    "\n",
    "$$ f(x + \\Delta x) = f(x) + \\Delta x f'(x + {1\\over 2} \\Delta x)  +  {1\\over 24} \\Delta x^3 f'''(x+ {1\\over 2} \\Delta x) + \\dots $$\n",
    "\n",
    "Notice what has happened: By use of clever algebra, we've arrived at an expression that doesn't have a second order term. Hence, when we truncate the expansion, we will be neglecting third order terms and higher instead of second order terms and higher.  The result (after truncation) is:\n",
    "\n",
    "$$ f(x + \\Delta x) = f(x) + \\Delta x f'(x + {1\\over 2} \\Delta x) $$\n",
    "\n",
    "Before proceeding, let's re-write this equation using more familiar variables instead of the general $x$ and $f(x)$ that we've been using:\n",
    "\n",
    "$$ v(t + \\Delta t) = v(t) + a(t + {1\\over 2} \\Delta t) \\Delta t $$\n",
    "\n",
    "$$ v_{n + 1} = v_n + a_{n+{1\\over 2} } \\Delta t \\text{    (index notation)}$$\n",
    "\n",
    "\n",
    "This looks exactly like Euler’s method except that instead of evaluating the acceleration at $t_n$, we’d like to evaluate it at $t_{n+ {1\\over 2}}$.  But the acceleration function may depend on position ($x$) and velocity ($v$), which means that in order to evaluate the acceleration at the half time step, we'll have to know the position and velocity at the half time step. We'll do this using Euler's method.\n",
    "\n",
    "$$ x_{n + {1\\over 2}} = x_n +  v(t_n) {\\Delta t \\over 2}\\text{    (Euler's Step)}$$\n",
    "\n",
    "\n",
    "$$ v_{n + {1\\over 2}} = v_n +  a(v_n,x_n,t_n) {\\Delta t \\over 2}\\text{    (Euler's Step)}$$\n",
    "\n",
    "\n",
    "$$ x_{n + 1} = x_n +  v(t_{n + {1\\over 2}}) \\Delta t \\text{    (RK step)}$$\n",
    "\n",
    "\n",
    "\n",
    "$$ v_{n + 1} = v_n +  a(x_{n + {1\\over 2}},v_{n + {1\\over 2}},t_{n + {1\\over 2}}) \\Delta t \\text{    (RK step)}$$\n",
    "\n",
    "\n",
    "These equations will work for finding the position and velocity function for one-dimensional motion, but often you are solving more than two equations.  For example, in projectile motion, you may need to solve 6 equations for $x$, $y$,$z$, $v_x$,$v_y$, and $v_z$.  Wouldn't it be nice if we could put all of the relevant variables into a **single vector** and update all of their values using array math.  To that end, you'll often see Runge-Kutta written like this:\n",
    "\n",
    "$$\\vec{k}_1 = \\vec{f}(\\vec{r}_n,t_n) \\Delta t $$\n",
    "$$\\vec{k}_2 = \\vec{f}(\\vec{r}_n + {1\\over 2} \\vec{k_1}, t_n + {1\\over 2} \\Delta t) \\Delta t $$\n",
    "$$\\vec{r}_{n+1} = \\vec{r}_n + \\vec{k_2}$$ \n",
    "\n",
    "where **$\\vec{r_n}$** refers to a **vector** containing all of the relevant variables for the problem.  Also note that $\\vec{f}(r_n,t_n)$ will **return a vector of derivatives**, one corresponding to each relevant variable in the problem.  Please take the time to understand the above discussion.  Stop and ask questions if you must, but don't move on until it's clear in your mind.\n",
    "\n",
    "\n",
    "Below you will find a somewhat lengthy code designed to help you see how to implement 2nd order Runge Kutta and to see the improvement of 2nd order Runge Kutta over Euler's method.  \n",
    "\n",
    "1. <span style=\"color:red\">Study the discussion above thoroughly and ask all of the questions you need to understand second order Runge Kutta.</span>\n",
    "2. <span style=\"color:red\">Below you will find a code that implements 2nd order R-K for a projectile with drag.  The code is designed to i) help you see how RK is implemented in practice and ii) to help you see how 2nd order RK is better than Euler.  Study the code and add comments explaining what each line does.  Ask any questions that you have.</span>\n",
    "3. <span style=\"color:red\">Execute the code and wait for the output (It might take 10-15 seconds)</span>\n",
    "4. <span style=\"color:red\">After looking at the plot, draw a conclusion and write it down in the cell below the plot.</span>\n"
   ]
  },
  {
   "cell_type": "code",
   "execution_count": 11,
   "metadata": {},
   "outputs": [
    {
     "name": "stdout",
     "output_type": "stream",
     "text": [
      "setting dt to   1.000000\n",
      "setting dt to   0.500000\n",
      "setting dt to   0.250000\n",
      "setting dt to   0.125000\n",
      "setting dt to   0.062500\n",
      "setting dt to   0.031250\n",
      "setting dt to   0.015625\n",
      "setting dt to   0.007812\n",
      "setting dt to   0.003906\n",
      "setting dt to   0.001953\n",
      "setting dt to   0.000977\n",
      "setting dt to   0.000488\n",
      "setting dt to   0.000244\n",
      "setting dt to   0.000122\n",
      "setting dt to   0.000061\n",
      "setting dt to   0.000031\n"
     ]
    },
    {
     "data": {
      "image/png": "[encoded data removed]",
      "text/plain": [
       "<Figure size 640x480 with 1 Axes>"
      ]
     },
     "metadata": {},
     "output_type": "display_data"
    }
   ],
   "source": [
    "from numpy.linalg import norm\n",
    "from numpy import arange,array,pi,cos,sin,copy\n",
    "from matplotlib import pyplot as plt\n",
    "\n",
    "#  gets the incremented steps dx, dy and dvx, dvy to pass to the trjectory solvers\n",
    "def derivs(vars):\n",
    "    r = vars[:2]\n",
    "    v = vars[2:]\n",
    "    g = 9.8\n",
    "    B2 = 4e-5\n",
    "\n",
    "    xDeriv = v[0]\n",
    "    yDeriv = v[1]\n",
    "    speed = norm(v)\n",
    "    vxDeriv = -B2 * speed * v[0]\n",
    "    vyDeriv = -B2 * speed * v[1] - g\n",
    "    return array([xDeriv,yDeriv,vxDeriv,vyDeriv])\n",
    "\n",
    "# returns the euler algorithm for the next step in the trajectory\n",
    "def EulerTrajectory(rInitial, vInitial,dt):\n",
    "    B2 = 4e-5\n",
    "    g=9.8\n",
    "    r = copy(rInitial)\n",
    "    v = copy(vInitial)\n",
    "    while r[1] >= 0:\n",
    "        r += v * dt\n",
    "        speed = norm(v)\n",
    "        a = array([-B2 * speed * v[0],-B2 * speed * v[1] - g])\n",
    "        v += a * dt\n",
    "    return r[0]\n",
    "\n",
    "# implements the RK2 algorithm and returns a new array component as output\n",
    "def RK2Trajectory(r,v,dt):\n",
    "    B2 = 4e-5\n",
    "    g=9.8\n",
    "    vars = array([r[0],r[1],v[0],v[1]])\n",
    "    while vars[1] >= 0:\n",
    "        k1 = dt * derivs(vars)\n",
    "        k2 = dt * derivs(vars + 1/2 * k1)\n",
    "        vars += k2\n",
    "\n",
    "\n",
    "    return vars[0]\n",
    "\n",
    "# set the initial conditions\n",
    "rInitial = array([0.,0.]) # pos\n",
    "speed = 50\n",
    "theta = 25 * pi/180\n",
    "vInitial = array([speed * cos(theta), speed * sin(theta)]) # set velocity by giving direction to the speed\n",
    "# make empty lists to append to for plotting later on\n",
    "EulerRanges = []\n",
    "RK2Ranges = []\n",
    "# set dt\n",
    "dt = 1\n",
    "dts = []\n",
    "\n",
    "# run a loop to test different dt values and compare euler to RK2\n",
    "while dt > 2e-5:\n",
    "    dts.append(dt)\n",
    "    print(\"setting dt to {:10.6f}\".format(dt))\n",
    "    r = copy(rInitial)\n",
    "    v = copy(vInitial)\n",
    "    rangeEuler = EulerTrajectory(r,v,dt)\n",
    "    rangeRK = RK2Trajectory(r,v,dt)\n",
    "    EulerRanges.append(rangeEuler)\n",
    "    RK2Ranges.append(rangeRK)\n",
    "    dt /= 2\n",
    "\n",
    "# make the subplots\n",
    "fig,ax = plt.subplots(1,1)\n",
    "\n",
    "# and finally make the plots\n",
    "ax.plot(dts,RK2Ranges,label='RK')\n",
    "ax.plot(dts,EulerRanges,label='Euler')\n",
    "ax.set_xscale('log')\n",
    "ax.legend()\n",
    "plt.show()\n"
   ]
  },
  {
   "cell_type": "markdown",
   "metadata": {},
   "source": []
  },
  {
   "cell_type": "markdown",
   "metadata": {},
   "source": [
    "### Practice\n",
    "\n",
    "Now that you have seen some example code for 2nd order Runge-Kutta, let's see if you can write your own.  This week we will be studying the pendulum.  The differential equation the emerges when considering the damped pendulum is:\n",
    "\n",
    "$$ {d^2 \\theta\\over dt^2} = -{g\\over l} \\sin \\theta - q {d\\theta \\over dt}$$\n",
    "\n",
    "This is a second-order differential equation in $\\theta$.  Can you write it as two coupled, first-order differential equations?  Try it on your own and then look below to see if you got it right...\n",
    "\n",
    "$$ {d\\omega \\over dt} =-{g\\over l} \\sin \\theta - q \\omega$$\n",
    "$${d\\theta \\over dt} = \\omega$$\n",
    "\n",
    "From this starting point, we can begin to build the code to model the problem:\n",
    "\n",
    "1. <span style=\"color:red\">Following the model code above, write a code the uses 2nd order Runge-Kutta to solve the damped pendulum.  Plot $\\theta$ vs time for $0 < t < 10$ s.  </span>\n",
    "2. <span style=\"color:red\">By playing with the physical parameters in the problem, verify that your results match your intiution for this situation.  (You should be able to reproduce figure 3.4 in the book.)</span>"
   ]
  },
  {
   "cell_type": "code",
   "execution_count": 26,
   "metadata": {},
   "outputs": [
    {
     "data": {
      "image/png": "[encoded data removed]",
      "text/plain": [
       "<Figure size 640x480 with 1 Axes>"
      ]
     },
     "metadata": {},
     "output_type": "display_data"
    },
    {
     "data": {
      "image/png": "[encoded data removed]",
      "text/plain": [
       "<Figure size 640x480 with 1 Axes>"
      ]
     },
     "metadata": {},
     "output_type": "display_data"
    }
   ],
   "source": [
    "# solving the damped pendulum problem\n",
    "%matplotlib inline\n",
    "\n",
    "# define some constants\n",
    "q = 1\n",
    "l = 1.0\n",
    "g = 9.8\n",
    "dt = 1e-2\n",
    "\n",
    "# get the differentials\n",
    "def derivs(r, t):\n",
    "    return array([r[1], -g / l * sin(r[0]) - q * r[1]])\n",
    "\n",
    "def RK2(r, tFinal : float, plot : bool = True):\n",
    "    t = 0.0\n",
    "    tList = []\n",
    "    thetaList = []\n",
    "    omegaList = []\n",
    "    \n",
    "    while t < tFinal:\n",
    "        k1 = dt * derivs(r, t)\n",
    "        k2 = dt * derivs(r + k1 / 2, t + dt / 2)\n",
    "        r += k2\n",
    "        thetaList.append(r[0])\n",
    "        omegaList.append(r[1])\n",
    "        tList.append(t)\n",
    "        t += dt\n",
    "    \n",
    "    if plot:\n",
    "        plt.title('theta vs t')\n",
    "        plt.plot(tList, thetaList)\n",
    "        plt.show()\n",
    "        plt.title('omega vs t')\n",
    "        plt.plot(tList, omegaList)\n",
    "        plt.show()\n",
    "    return None\n",
    "\n",
    "# set initial theta and omega\n",
    "r = np.array([np.pi / 3,  0], float)\n",
    "# and set tFinal to 10 seconds\n",
    "RK2(r, 10.0)"
   ]
  },
  {
   "cell_type": "code",
   "execution_count": null,
   "metadata": {},
   "outputs": [],
   "source": []
  }
 ],
 "metadata": {
  "kernelspec": {
   "display_name": "Python 3",
   "language": "python",
   "name": "python3"
  },
  "language_info": {
   "codemirror_mode": {
    "name": "ipython",
    "version": 3
   },
   "file_extension": ".py",
   "mimetype": "text/x-python",
   "name": "python",
   "nbconvert_exporter": "python",
   "pygments_lexer": "ipython3",
   "version": "3.10.11"
  }
 },
 "nbformat": 4,
 "nbformat_minor": 4
}
